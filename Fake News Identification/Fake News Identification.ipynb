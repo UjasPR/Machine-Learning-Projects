{
 "cells": [
  {
   "cell_type": "code",
   "execution_count": 1,
   "metadata": {},
   "outputs": [],
   "source": [
    "# File description: A fake news classification project using various ML classifiers on an assembled ML model.  \n",
    "# File function: An exploration of the effectiveness of existing classifiers on an ML model for detecting text-based fake news."
   ]
  },
  {
   "cell_type": "code",
   "execution_count": 2,
   "metadata": {},
   "outputs": [],
   "source": [
    "import pandas as pd\n",
    "import numpy as np\n",
    "import itertools\n",
    "import seaborn as sns\n",
    "import matplotlib.pyplot as plt\n",
    "from sklearn.model_selection import cross_val_score\n",
    "%matplotlib inline\n",
    "from sklearn.model_selection import train_test_split\n",
    "from sklearn.feature_extraction.text import CountVectorizer\n",
    "from sklearn.feature_extraction.text import TfidfVectorizer \n",
    "from sklearn.linear_model import PassiveAggressiveClassifier\n",
    "from sklearn.naive_bayes import MultinomialNB\n",
    "from sklearn.pipeline import Pipeline\n",
    "from sklearn.feature_extraction.text import TfidfTransformer\n",
    "from sklearn.metrics import accuracy_score, confusion_matrix,classification_report\n",
    "from sklearn.linear_model import LogisticRegression\n",
    "from sklearn.svm import LinearSVC\n",
    "from yellowbrick.classifier import ClassificationReport\n",
    "from sklearn.datasets import make_classification\n",
    "from sklearn.model_selection import GridSearchCV"
   ]
  },
  {
   "cell_type": "markdown",
   "metadata": {},
   "source": [
    "# And Now, The Fake News: \n",
    "# Comparing The Efficacy of Four Classifiers in Determining Whether or Not A Given Article Is Real or Fake News"
   ]
  },
  {
   "cell_type": "markdown",
   "metadata": {},
   "source": [
    "### The purposeful spread of disinformation is one of the greatest threats to human society inflaming existing tensions, widening socioeconomic gaps and inciting physical violence. "
   ]
  },
  {
   "cell_type": "markdown",
   "metadata": {},
   "source": [
    "### Due to the nuance and variability of the human language, classification problems are among the hardest ML models to train and assess. "
   ]
  },
  {
   "cell_type": "markdown",
   "metadata": {},
   "source": [
    "### This project will attempt to build and assess a model that can predict fake news from an open source data set. "
   ]
  },
  {
   "cell_type": "markdown",
   "metadata": {},
   "source": [
    "# Hypothesis: Given its ubquity as a text classifier, a multinomial Naive Bayes classification algorithm will be best-suited to determine if a story is true or false."
   ]
  },
  {
   "cell_type": "markdown",
   "metadata": {},
   "source": [
    "# Null hypothesis: Naive Bayes will not be the most effective classifier for this problem."
   ]
  },
  {
   "cell_type": "code",
   "execution_count": 3,
   "metadata": {},
   "outputs": [],
   "source": [
    "# Read data from flat CSV file. \n",
    "fake_news = pd.read_csv('Dataset/train.csv')"
   ]
  },
  {
   "cell_type": "code",
   "execution_count": 4,
   "metadata": {},
   "outputs": [
    {
     "data": {
      "text/html": [
       "<div>\n",
       "<style scoped>\n",
       "    .dataframe tbody tr th:only-of-type {\n",
       "        vertical-align: middle;\n",
       "    }\n",
       "\n",
       "    .dataframe tbody tr th {\n",
       "        vertical-align: top;\n",
       "    }\n",
       "\n",
       "    .dataframe thead th {\n",
       "        text-align: right;\n",
       "    }\n",
       "</style>\n",
       "<table border=\"1\" class=\"dataframe\">\n",
       "  <thead>\n",
       "    <tr style=\"text-align: right;\">\n",
       "      <th></th>\n",
       "      <th>id</th>\n",
       "      <th>title</th>\n",
       "      <th>author</th>\n",
       "      <th>text</th>\n",
       "      <th>label</th>\n",
       "    </tr>\n",
       "  </thead>\n",
       "  <tbody>\n",
       "    <tr>\n",
       "      <th>0</th>\n",
       "      <td>0</td>\n",
       "      <td>House Dem Aide: We Didn’t Even See Comey’s Let...</td>\n",
       "      <td>Darrell Lucus</td>\n",
       "      <td>House Dem Aide: We Didn’t Even See Comey’s Let...</td>\n",
       "      <td>1</td>\n",
       "    </tr>\n",
       "    <tr>\n",
       "      <th>1</th>\n",
       "      <td>1</td>\n",
       "      <td>FLYNN: Hillary Clinton, Big Woman on Campus - ...</td>\n",
       "      <td>Daniel J. Flynn</td>\n",
       "      <td>Ever get the feeling your life circles the rou...</td>\n",
       "      <td>0</td>\n",
       "    </tr>\n",
       "    <tr>\n",
       "      <th>2</th>\n",
       "      <td>2</td>\n",
       "      <td>Why the Truth Might Get You Fired</td>\n",
       "      <td>Consortiumnews.com</td>\n",
       "      <td>Why the Truth Might Get You Fired October 29, ...</td>\n",
       "      <td>1</td>\n",
       "    </tr>\n",
       "    <tr>\n",
       "      <th>3</th>\n",
       "      <td>3</td>\n",
       "      <td>15 Civilians Killed In Single US Airstrike Hav...</td>\n",
       "      <td>Jessica Purkiss</td>\n",
       "      <td>Videos 15 Civilians Killed In Single US Airstr...</td>\n",
       "      <td>1</td>\n",
       "    </tr>\n",
       "    <tr>\n",
       "      <th>4</th>\n",
       "      <td>4</td>\n",
       "      <td>Iranian woman jailed for fictional unpublished...</td>\n",
       "      <td>Howard Portnoy</td>\n",
       "      <td>Print \\nAn Iranian woman has been sentenced to...</td>\n",
       "      <td>1</td>\n",
       "    </tr>\n",
       "  </tbody>\n",
       "</table>\n",
       "</div>"
      ],
      "text/plain": [
       "   id                                              title              author  \\\n",
       "0   0  House Dem Aide: We Didn’t Even See Comey’s Let...       Darrell Lucus   \n",
       "1   1  FLYNN: Hillary Clinton, Big Woman on Campus - ...     Daniel J. Flynn   \n",
       "2   2                  Why the Truth Might Get You Fired  Consortiumnews.com   \n",
       "3   3  15 Civilians Killed In Single US Airstrike Hav...     Jessica Purkiss   \n",
       "4   4  Iranian woman jailed for fictional unpublished...      Howard Portnoy   \n",
       "\n",
       "                                                text  label  \n",
       "0  House Dem Aide: We Didn’t Even See Comey’s Let...      1  \n",
       "1  Ever get the feeling your life circles the rou...      0  \n",
       "2  Why the Truth Might Get You Fired October 29, ...      1  \n",
       "3  Videos 15 Civilians Killed In Single US Airstr...      1  \n",
       "4  Print \\nAn Iranian woman has been sentenced to...      1  "
      ]
     },
     "execution_count": 4,
     "metadata": {},
     "output_type": "execute_result"
    }
   ],
   "source": [
    "# Column values:\n",
    "\n",
    "# ID = index ID, title = article title, author = source, text = document text. \n",
    "# Label = Binary label. 0 = True, 1 = False.\n",
    "\n",
    "# Display first five rows. \n",
    "fake_news.head()"
   ]
  },
  {
   "cell_type": "code",
   "execution_count": 5,
   "metadata": {},
   "outputs": [
    {
     "data": {
      "text/plain": [
       "(20800, 5)"
      ]
     },
     "execution_count": 5,
     "metadata": {},
     "output_type": "execute_result"
    }
   ],
   "source": [
    "# Get shape of the data - 20,800 observations in 5 columns. \n",
    "fake_news.shape"
   ]
  },
  {
   "cell_type": "code",
   "execution_count": 6,
   "metadata": {},
   "outputs": [
    {
     "data": {
      "text/plain": [
       "id           0\n",
       "title      558\n",
       "author    1957\n",
       "text        39\n",
       "label        0\n",
       "dtype: int64"
      ]
     },
     "execution_count": 6,
     "metadata": {},
     "output_type": "execute_result"
    }
   ],
   "source": [
    "# Determine number of NA values in each column. \n",
    "fake_news.isna().sum()"
   ]
  },
  {
   "cell_type": "code",
   "execution_count": 7,
   "metadata": {},
   "outputs": [],
   "source": [
    "# Create clean data set with dropped NA values to avoid misclassification. \n",
    "fake_news_clean = fake_news.dropna()"
   ]
  },
  {
   "cell_type": "code",
   "execution_count": 8,
   "metadata": {},
   "outputs": [
    {
     "data": {
      "text/plain": [
       "id        0\n",
       "title     0\n",
       "author    0\n",
       "text      0\n",
       "label     0\n",
       "dtype: int64"
      ]
     },
     "execution_count": 8,
     "metadata": {},
     "output_type": "execute_result"
    }
   ],
   "source": [
    "# Check to ensure NA values are excluded. \n",
    "fake_news_clean.isna().sum()"
   ]
  },
  {
   "cell_type": "code",
   "execution_count": 9,
   "metadata": {},
   "outputs": [
    {
     "data": {
      "text/plain": [
       "(18285, 5)"
      ]
     },
     "execution_count": 9,
     "metadata": {},
     "output_type": "execute_result"
    }
   ],
   "source": [
    "# Generate new shape for clean data set. \n",
    "fake_news_clean.shape"
   ]
  },
  {
   "cell_type": "code",
   "execution_count": 10,
   "metadata": {},
   "outputs": [
    {
     "data": {
      "text/plain": [
       "<Axes: ylabel='count'>"
      ]
     },
     "execution_count": 10,
     "metadata": {},
     "output_type": "execute_result"
    },
    {
     "data": {
      "image/png": "[encoded data removed]",
      "text/plain": [
       "<Figure size 800x550 with 1 Axes>"
      ]
     },
     "metadata": {},
     "output_type": "display_data"
    }
   ],
   "source": [
    "# Visualize ratio of true to false stories. \n",
    "sns.set_style('darkgrid')\n",
    "sns.countplot(fake_news.label)"
   ]
  },
  {
   "cell_type": "code",
   "execution_count": 11,
   "metadata": {},
   "outputs": [
    {
     "data": {
      "text/plain": [
       "<Axes: ylabel='count'>"
      ]
     },
     "execution_count": 11,
     "metadata": {},
     "output_type": "execute_result"
    },
    {
     "data": {
      "image/png": "[encoded data removed]",
      "text/plain": [
       "<Figure size 800x550 with 1 Axes>"
      ]
     },
     "metadata": {},
     "output_type": "display_data"
    }
   ],
   "source": [
    "# Plot new ratio of true to false. Now, the true stories outweigh the false stories. \n",
    "sns.set_style('darkgrid')\n",
    "sns.countplot(fake_news_clean.label)"
   ]
  },
  {
   "cell_type": "code",
   "execution_count": 12,
   "metadata": {},
   "outputs": [
    {
     "data": {
      "text/html": [
       "<div>\n",
       "<style scoped>\n",
       "    .dataframe tbody tr th:only-of-type {\n",
       "        vertical-align: middle;\n",
       "    }\n",
       "\n",
       "    .dataframe tbody tr th {\n",
       "        vertical-align: top;\n",
       "    }\n",
       "\n",
       "    .dataframe thead th {\n",
       "        text-align: right;\n",
       "    }\n",
       "</style>\n",
       "<table border=\"1\" class=\"dataframe\">\n",
       "  <thead>\n",
       "    <tr style=\"text-align: right;\">\n",
       "      <th></th>\n",
       "      <th>id</th>\n",
       "      <th>title</th>\n",
       "      <th>author</th>\n",
       "      <th>text</th>\n",
       "    </tr>\n",
       "  </thead>\n",
       "  <tbody>\n",
       "    <tr>\n",
       "      <th>0</th>\n",
       "      <td>0</td>\n",
       "      <td>House Dem Aide: We Didn’t Even See Comey’s Let...</td>\n",
       "      <td>Darrell Lucus</td>\n",
       "      <td>House Dem Aide: We Didn’t Even See Comey’s Let...</td>\n",
       "    </tr>\n",
       "    <tr>\n",
       "      <th>1</th>\n",
       "      <td>1</td>\n",
       "      <td>FLYNN: Hillary Clinton, Big Woman on Campus - ...</td>\n",
       "      <td>Daniel J. Flynn</td>\n",
       "      <td>Ever get the feeling your life circles the rou...</td>\n",
       "    </tr>\n",
       "    <tr>\n",
       "      <th>2</th>\n",
       "      <td>2</td>\n",
       "      <td>Why the Truth Might Get You Fired</td>\n",
       "      <td>Consortiumnews.com</td>\n",
       "      <td>Why the Truth Might Get You Fired October 29, ...</td>\n",
       "    </tr>\n",
       "    <tr>\n",
       "      <th>3</th>\n",
       "      <td>3</td>\n",
       "      <td>15 Civilians Killed In Single US Airstrike Hav...</td>\n",
       "      <td>Jessica Purkiss</td>\n",
       "      <td>Videos 15 Civilians Killed In Single US Airstr...</td>\n",
       "    </tr>\n",
       "    <tr>\n",
       "      <th>4</th>\n",
       "      <td>4</td>\n",
       "      <td>Iranian woman jailed for fictional unpublished...</td>\n",
       "      <td>Howard Portnoy</td>\n",
       "      <td>Print \\nAn Iranian woman has been sentenced to...</td>\n",
       "    </tr>\n",
       "    <tr>\n",
       "      <th>...</th>\n",
       "      <td>...</td>\n",
       "      <td>...</td>\n",
       "      <td>...</td>\n",
       "      <td>...</td>\n",
       "    </tr>\n",
       "    <tr>\n",
       "      <th>20795</th>\n",
       "      <td>20795</td>\n",
       "      <td>Rapper T.I.: Trump a ’Poster Child For White S...</td>\n",
       "      <td>Jerome Hudson</td>\n",
       "      <td>Rapper T. I. unloaded on black celebrities who...</td>\n",
       "    </tr>\n",
       "    <tr>\n",
       "      <th>20796</th>\n",
       "      <td>20796</td>\n",
       "      <td>N.F.L. Playoffs: Schedule, Matchups and Odds -...</td>\n",
       "      <td>Benjamin Hoffman</td>\n",
       "      <td>When the Green Bay Packers lost to the Washing...</td>\n",
       "    </tr>\n",
       "    <tr>\n",
       "      <th>20797</th>\n",
       "      <td>20797</td>\n",
       "      <td>Macy’s Is Said to Receive Takeover Approach by...</td>\n",
       "      <td>Michael J. de la Merced and Rachel Abrams</td>\n",
       "      <td>The Macy’s of today grew from the union of sev...</td>\n",
       "    </tr>\n",
       "    <tr>\n",
       "      <th>20798</th>\n",
       "      <td>20798</td>\n",
       "      <td>NATO, Russia To Hold Parallel Exercises In Bal...</td>\n",
       "      <td>Alex Ansary</td>\n",
       "      <td>NATO, Russia To Hold Parallel Exercises In Bal...</td>\n",
       "    </tr>\n",
       "    <tr>\n",
       "      <th>20799</th>\n",
       "      <td>20799</td>\n",
       "      <td>What Keeps the F-35 Alive</td>\n",
       "      <td>David Swanson</td>\n",
       "      <td>David Swanson is an author, activist, journa...</td>\n",
       "    </tr>\n",
       "  </tbody>\n",
       "</table>\n",
       "<p>18285 rows × 4 columns</p>\n",
       "</div>"
      ],
      "text/plain": [
       "          id                                              title  \\\n",
       "0          0  House Dem Aide: We Didn’t Even See Comey’s Let...   \n",
       "1          1  FLYNN: Hillary Clinton, Big Woman on Campus - ...   \n",
       "2          2                  Why the Truth Might Get You Fired   \n",
       "3          3  15 Civilians Killed In Single US Airstrike Hav...   \n",
       "4          4  Iranian woman jailed for fictional unpublished...   \n",
       "...      ...                                                ...   \n",
       "20795  20795  Rapper T.I.: Trump a ’Poster Child For White S...   \n",
       "20796  20796  N.F.L. Playoffs: Schedule, Matchups and Odds -...   \n",
       "20797  20797  Macy’s Is Said to Receive Takeover Approach by...   \n",
       "20798  20798  NATO, Russia To Hold Parallel Exercises In Bal...   \n",
       "20799  20799                          What Keeps the F-35 Alive   \n",
       "\n",
       "                                          author  \\\n",
       "0                                  Darrell Lucus   \n",
       "1                                Daniel J. Flynn   \n",
       "2                             Consortiumnews.com   \n",
       "3                                Jessica Purkiss   \n",
       "4                                 Howard Portnoy   \n",
       "...                                          ...   \n",
       "20795                              Jerome Hudson   \n",
       "20796                           Benjamin Hoffman   \n",
       "20797  Michael J. de la Merced and Rachel Abrams   \n",
       "20798                                Alex Ansary   \n",
       "20799                              David Swanson   \n",
       "\n",
       "                                                    text  \n",
       "0      House Dem Aide: We Didn’t Even See Comey’s Let...  \n",
       "1      Ever get the feeling your life circles the rou...  \n",
       "2      Why the Truth Might Get You Fired October 29, ...  \n",
       "3      Videos 15 Civilians Killed In Single US Airstr...  \n",
       "4      Print \\nAn Iranian woman has been sentenced to...  \n",
       "...                                                  ...  \n",
       "20795  Rapper T. I. unloaded on black celebrities who...  \n",
       "20796  When the Green Bay Packers lost to the Washing...  \n",
       "20797  The Macy’s of today grew from the union of sev...  \n",
       "20798  NATO, Russia To Hold Parallel Exercises In Bal...  \n",
       "20799    David Swanson is an author, activist, journa...  \n",
       "\n",
       "[18285 rows x 4 columns]"
      ]
     },
     "execution_count": 12,
     "metadata": {},
     "output_type": "execute_result"
    }
   ],
   "source": [
    "# Isolate 'label' column to use as target variable.  \n",
    "y = fake_news_clean['label']\n",
    "fake_news_clean.drop('label', axis=1)"
   ]
  },
  {
   "cell_type": "code",
   "execution_count": 13,
   "metadata": {},
   "outputs": [],
   "source": [
    "# Create train-test split. Used 67/33 split to create more equitable partition of data given number of stories. \n",
    "\n",
    "X_train, X_test, y_train, y_test = train_test_split(fake_news_clean['text'], y, test_size = 0.33, random_state = 53)"
   ]
  },
  {
   "cell_type": "code",
   "execution_count": 14,
   "metadata": {},
   "outputs": [],
   "source": [
    "# Initialize a count vectorizer to assess occurrences of words using default stop words parameter. \n",
    "count_vectorizer = CountVectorizer(stop_words = 'english')"
   ]
  },
  {
   "cell_type": "code",
   "execution_count": 15,
   "metadata": {},
   "outputs": [],
   "source": [
    "# Transform count training data set into vector. \n",
    "fake_real_count_train = count_vectorizer.fit_transform(X_train)"
   ]
  },
  {
   "cell_type": "code",
   "execution_count": 16,
   "metadata": {},
   "outputs": [],
   "source": [
    "# Transofmr count test set into vector. \n",
    "fake_real_count_test = count_vectorizer.transform(X_test)"
   ]
  },
  {
   "cell_type": "code",
   "execution_count": 17,
   "metadata": {},
   "outputs": [],
   "source": [
    "# Initialize TFIDF vectorizer to assess word frequency. Use default English stop word parameters. \n",
    "tfidf_vectorizer = TfidfVectorizer(stop_words = 'english', max_df = 0.7)"
   ]
  },
  {
   "cell_type": "code",
   "execution_count": 18,
   "metadata": {},
   "outputs": [],
   "source": [
    "# Transform X train data set into vectorized text.\n",
    "fake_real_tfidf_train = tfidf_vectorizer.fit_transform(X_train)"
   ]
  },
  {
   "cell_type": "code",
   "execution_count": 19,
   "metadata": {},
   "outputs": [],
   "source": [
    "# Transform X test data set into vectorized text. \n",
    "fake_real_tfidf_test = tfidf_vectorizer.transform(X_test)"
   ]
  },
  {
   "cell_type": "code",
   "execution_count": 20,
   "metadata": {},
   "outputs": [],
   "source": [
    "# Create function to plot confusion matrix for Passive Aggressive Classifier. \n",
    "def plot_confusion_matrix(cm, classes, normalize=False, title = 'Passive Aggressive Classifier', cmap = plt.cm.Blues):\n",
    "    plt.imshow(cm, interpolation='nearest', cmap=cmap)\n",
    "    plt.title(title)\n",
    "    plt.colorbar()\n",
    "    tick_marks = np.arange(len(classes))\n",
    "    plt.xticks(tick_marks, classes, rotation=45)\n",
    "    plt.yticks(tick_marks, classes)\n",
    "\n",
    "    if normalize:\n",
    "        cm = cm.astype('float') / cm.sum(axis=1)[:, np.newaxis]\n",
    "        print(\"Normalized confusion matrix\")\n",
    "    else:\n",
    "        print('Confusion matrix, without normalization')\n",
    "        print(f'Accuracy: {round(score*100,2)}%')\n",
    "    thresh = cm.max() / 2.\n",
    "    for i, j in itertools.product(range(cm.shape[0]), range(cm.shape[1])):\n",
    "        plt.text(j, i, cm[i, j],\n",
    "                 horizontalalignment=\"center\",\n",
    "                 color=\"white\" if cm[i, j] > thresh else \"black\")\n",
    "\n",
    "    plt.tight_layout()\n",
    "    plt.ylabel('True label')\n",
    "    plt.xlabel('Predicted label')"
   ]
  },
  {
   "cell_type": "code",
   "execution_count": 21,
   "metadata": {},
   "outputs": [],
   "source": [
    "# Initialize Passive Aggressive Classifier object with default max_iter value. \n",
    "\n",
    "linear_clf = PassiveAggressiveClassifier(max_iter = 50)"
   ]
  },
  {
   "cell_type": "code",
   "execution_count": 22,
   "metadata": {},
   "outputs": [
    {
     "name": "stdout",
     "output_type": "stream",
     "text": [
      "Confusion matrix, without normalization\n",
      "Accuracy: 95.96%\n"
     ]
    },
    {
     "data": {
      "image/png": "[encoded data removed]",
      "text/plain": [
       "<Figure size 800x550 with 2 Axes>"
      ]
     },
     "metadata": {},
     "output_type": "display_data"
    }
   ],
   "source": [
    "# Predict number of true positives vs. false negatives on vectorized test set to visualize confusion matrix. \n",
    "linear_clf.fit(fake_real_tfidf_train, y_train)\n",
    "pred = linear_clf.predict(fake_real_tfidf_test)\n",
    "score = accuracy_score(y_test, pred)\n",
    "cm = confusion_matrix(y_test, pred, labels=[0, 1])\n",
    "plot_confusion_matrix(cm, classes=[0, 1])"
   ]
  },
  {
   "cell_type": "code",
   "execution_count": 23,
   "metadata": {},
   "outputs": [
    {
     "name": "stdout",
     "output_type": "stream",
     "text": [
      "Accuracy of SVM Classifier: 96.22%\n",
      "\n",
      "Confusion Matrix of SVM Classifier:\n",
      "\n",
      "[[3304  105]\n",
      " [ 123 2503]]\n",
      "\n",
      "Classification Report of SVM Classifier:\n",
      "\n",
      "              precision    recall  f1-score   support\n",
      "\n",
      "           0       0.96      0.97      0.97      3409\n",
      "           1       0.96      0.95      0.96      2626\n",
      "\n",
      "    accuracy                           0.96      6035\n",
      "   macro avg       0.96      0.96      0.96      6035\n",
      "weighted avg       0.96      0.96      0.96      6035\n",
      "\n"
     ]
    }
   ],
   "source": [
    "# Create pipeline to fit and test linear support vector machine.\n",
    "\n",
    "pipe2 = Pipeline([('vect', CountVectorizer()), ('tfidf', TfidfTransformer()), ('model', LinearSVC())])\n",
    "\n",
    "# Fit model with training data. Empty count vectorizer and TFIDF objects will perform similar functions as\n",
    "# those imposed on tfidf_real_fake, so the initial train and test data should work here.  \n",
    "\n",
    "model_svc = pipe2.fit(X_train, y_train)\n",
    "svc_pred = model_svc.predict(X_test)\n",
    "\n",
    "# Print accuracy, confusion matrix and classification report as a plain text output.\n",
    "# However, since accuracy can be a somewhat arbitrary metric, I've also generated a classification report.\n",
    "# In particular, I'll be concentrating on precision, recall and f1-scores. \n",
    "\n",
    "print(\"Accuracy of SVM Classifier: {}%\".format(round(accuracy_score(y_test, svc_pred)*100,2)))\n",
    "print(\"\\nConfusion Matrix of SVM Classifier:\\n\")\n",
    "print(confusion_matrix(y_test, svc_pred))\n",
    "print(\"\\nClassification Report of SVM Classifier:\\n\")\n",
    "print(classification_report(y_test, svc_pred))"
   ]
  },
  {
   "cell_type": "code",
   "execution_count": 24,
   "metadata": {},
   "outputs": [
    {
     "name": "stdout",
     "output_type": "stream",
     "text": [
      "Accuracy of Logistic Regression Classifier: 94.3%\n",
      "\n",
      "Confusion Matrix of Logistic Regression Classifier:\n",
      "\n",
      "[[3277  132]\n",
      " [ 212 2414]]\n",
      "\n",
      "CLassification Report of Logistic Regression Classifier:\n",
      "\n",
      "              precision    recall  f1-score   support\n",
      "\n",
      "           0       0.94      0.96      0.95      3409\n",
      "           1       0.95      0.92      0.93      2626\n",
      "\n",
      "    accuracy                           0.94      6035\n",
      "   macro avg       0.94      0.94      0.94      6035\n",
      "weighted avg       0.94      0.94      0.94      6035\n",
      "\n"
     ]
    }
   ],
   "source": [
    "# Create a pipeline to fit and test a linear regression model. \n",
    "\n",
    "pipe1 = Pipeline([('vect', CountVectorizer()), ('tfidf', TfidfTransformer()), ('model', LogisticRegression())])\n",
    "\n",
    "# Fit model with training data. Empty count vectorizer and TFIDF objects will perform similar functions as\n",
    "# those imposed on tfidf_real_fake, so the initial train and test data should work here.  \n",
    "\n",
    "model_lr = pipe1.fit(X_train, y_train)\n",
    "lr_pred = model_lr.predict(X_test)\n",
    "\n",
    "# Print accuracy, confusion matrix and classification report as a plain text output. \n",
    "\n",
    "print(\"Accuracy of Logistic Regression Classifier: {}%\".format(round(accuracy_score(y_test, lr_pred)*100,2)))\n",
    "print(\"\\nConfusion Matrix of Logistic Regression Classifier:\\n\")\n",
    "print(confusion_matrix(y_test, lr_pred))\n",
    "print(\"\\nCLassification Report of Logistic Regression Classifier:\\n\")\n",
    "print(classification_report(y_test, lr_pred))"
   ]
  },
  {
   "cell_type": "code",
   "execution_count": 25,
   "metadata": {},
   "outputs": [
    {
     "name": "stdout",
     "output_type": "stream",
     "text": [
      "Accuracy of Naive Bayes Classifier: 70.62%\n",
      "\n",
      "Confusion Matrix of Naive Bayes Classifier:\n",
      "\n",
      "[[3408    1]\n",
      " [1772  854]]\n",
      "\n",
      "Classification Report of Naive Bayes Classifier:\n",
      "\n",
      "              precision    recall  f1-score   support\n",
      "\n",
      "           0       0.66      1.00      0.79      3409\n",
      "           1       1.00      0.33      0.49      2626\n",
      "\n",
      "    accuracy                           0.71      6035\n",
      "   macro avg       0.83      0.66      0.64      6035\n",
      "weighted avg       0.81      0.71      0.66      6035\n",
      "\n"
     ]
    }
   ],
   "source": [
    "#Naive-Bayes classification\n",
    "\n",
    "pipe3 = Pipeline([('vect', CountVectorizer()), ('tfidf', TfidfTransformer()), ('model', MultinomialNB())])\n",
    "\n",
    "# Fit model with training data. Empty count vectorizer and TFIDF objects will perform similar functions as\n",
    "# those imposed on tfidf_real_fake, so the initial train and test data should work here.  \n",
    "\n",
    "model_nb = pipe3.fit(X_train, y_train)\n",
    "nb_pred = model_nb.predict(X_test)\n",
    "\n",
    "# Print accuracy, confusion matrix and classification report as a plain text output. \n",
    "\n",
    "print(\"Accuracy of Naive Bayes Classifier: {}%\".format(round(accuracy_score(y_test, nb_pred)*100,2)))\n",
    "print(\"\\nConfusion Matrix of Naive Bayes Classifier:\\n\")\n",
    "print(confusion_matrix(y_test, nb_pred))\n",
    "print(\"\\nClassification Report of Naive Bayes Classifier:\\n\")\n",
    "print(classification_report(y_test, nb_pred))"
   ]
  },
  {
   "cell_type": "code",
   "execution_count": 26,
   "metadata": {},
   "outputs": [
    {
     "name": "stdout",
     "output_type": "stream",
     "text": [
      "Naive Bayes Confusion Matrix and Classification Report\n",
      "---------------------------------------------------------------------------------------------------------\n",
      "Accuracy of Naive Bayes Classifier: 70.62%\n",
      "---------------------------------------------------------------------------------------------------------\n",
      "              precision    recall  f1-score   support\n",
      "\n",
      "           0       0.66      1.00      0.79      3409\n",
      "           1       1.00      0.33      0.49      2626\n",
      "\n",
      "    accuracy                           0.71      6035\n",
      "   macro avg       0.83      0.66      0.64      6035\n",
      "weighted avg       0.81      0.71      0.66      6035\n",
      "\n"
     ]
    },
    {
     "data": {
      "image/png": "[encoded data removed]",
      "text/plain": [
       "<Figure size 800x550 with 2 Axes>"
      ]
     },
     "metadata": {},
     "output_type": "display_data"
    }
   ],
   "source": [
    "# In the final portion of the project, I'll build visualizations for the above confusion matrices.\n",
    "\n",
    "# Using Seaborn's heat map, we can visualize the ability of the model to assess actual vs. predicted values.\n",
    "conf_mat = confusion_matrix(y_test, nb_pred)\n",
    "sns.heatmap(conf_mat/np.sum(conf_mat), annot=True, \n",
    "            fmt='.2%', cmap='OrRd')\n",
    "plt.ylabel('True label')\n",
    "plt.xlabel('Predicted label')\n",
    "plt.title('Actual vs. Predicted - Naive Bayes')\n",
    "print('Naive Bayes Confusion Matrix and Classification Report')\n",
    "print('-----'*21)\n",
    "print(\"Accuracy of Naive Bayes Classifier: {}%\".format(round(accuracy_score(y_test, nb_pred)*100,2)))\n",
    "print('-----'*21)\n",
    "print(classification_report(y_test, nb_pred))"
   ]
  },
  {
   "cell_type": "code",
   "execution_count": 27,
   "metadata": {},
   "outputs": [
    {
     "name": "stdout",
     "output_type": "stream",
     "text": [
      "Accuracy of Linear Regression Classifier: 94.3%\n",
      "---------------------------------------------------------------------------------------------------------\n",
      "Classification Report\n",
      "---------------------------------------------------------------------------------------------------------\n",
      "              precision    recall  f1-score   support\n",
      "\n",
      "           0       0.94      0.96      0.95      3409\n",
      "           1       0.95      0.92      0.93      2626\n",
      "\n",
      "    accuracy                           0.94      6035\n",
      "   macro avg       0.94      0.94      0.94      6035\n",
      "weighted avg       0.94      0.94      0.94      6035\n",
      "\n"
     ]
    },
    {
     "data": {
      "image/png": "[encoded data removed]",
      "text/plain": [
       "<Figure size 800x550 with 2 Axes>"
      ]
     },
     "metadata": {},
     "output_type": "display_data"
    }
   ],
   "source": [
    "# I'll do the same for the linear regression prediction.\n",
    "\n",
    "conf_mat_2 = confusion_matrix(y_test, lr_pred)\n",
    "sns.heatmap(conf_mat_2/np.sum(conf_mat_2), annot=True, \n",
    "            fmt='.2%', cmap='Blues')\n",
    "plt.ylabel('True label')\n",
    "plt.xlabel('Predicted label')\n",
    "plt.title('Actual vs. Predicted - Linear Regression')\n",
    "print(\"Accuracy of Linear Regression Classifier: {}%\".format(round(accuracy_score(y_test, lr_pred)*100,2)))\n",
    "print('-----'*21)\n",
    "print('Classification Report')\n",
    "print('-----'*21)\n",
    "print(classification_report(y_test, lr_pred))"
   ]
  },
  {
   "cell_type": "code",
   "execution_count": 28,
   "metadata": {},
   "outputs": [
    {
     "name": "stdout",
     "output_type": "stream",
     "text": [
      "Accuracy of Support Vector Machine: 96.22%\n",
      "---------------------------------------------------------------------------------------------------------\n",
      "Support Vector Machine Classification Report\n",
      "---------------------------------------------------------------------------------------------------------\n",
      "              precision    recall  f1-score   support\n",
      "\n",
      "           0       0.96      0.97      0.97      3409\n",
      "           1       0.96      0.95      0.96      2626\n",
      "\n",
      "    accuracy                           0.96      6035\n",
      "   macro avg       0.96      0.96      0.96      6035\n",
      "weighted avg       0.96      0.96      0.96      6035\n",
      "\n"
     ]
    },
    {
     "data": {
      "image/png": "[encoded data removed]",
      "text/plain": [
       "<Figure size 800x550 with 2 Axes>"
      ]
     },
     "metadata": {},
     "output_type": "display_data"
    }
   ],
   "source": [
    "# And, finally, the support vector machine (linear kernel). \n",
    "\n",
    "conf_mat_3 = confusion_matrix(y_test, svc_pred)\n",
    "sns.heatmap(conf_mat_3/np.sum(conf_mat_3), annot=True, \n",
    "            fmt='.2%', cmap='Greens')\n",
    "plt.ylabel('True label')\n",
    "plt.xlabel('Predicted label')\n",
    "plt.title('Actual vs. Predicted - Support Vector Machine')\n",
    "print(\"Accuracy of Support Vector Machine: {}%\".format(round(accuracy_score(y_test, svc_pred)*100,2)))\n",
    "print('-----'*21)\n",
    "print('Support Vector Machine Classification Report')\n",
    "print('-----'*21)\n",
    "print(classification_report(y_test, svc_pred))"
   ]
  },
  {
   "cell_type": "markdown",
   "metadata": {},
   "source": [
    "### Ultimately, I proved my null hypothesis although with an important caveat. Though, at first glance, it may appear that Naive Bayes received the lowest accuracy score, as I mentioned above, accuracy is not the best metric to assess a model's performance. It must be noted that even though Naive Bayes was only 70% accurate, its recall and precision scores were excellent, meaning that it could correctly classify values in either class. However, the most consistently high-performing model was the linear kernel Support Vector Machine which scored in the high 90s across all three categories: Precision, recall and f1-score. It is also worth noting that the performance of these classifiers could still vary greatly depending upon the stop words chosen, features filtered and hyper parameters entered. There is also little guarantee these methods would be effective on non-English language classification problems. However, this experiment determined that a Support Vector Machine is the most effective classifier for addressing an English language fake news detection problem."
   ]
  },
  {
   "cell_type": "code",
   "execution_count": null,
   "metadata": {},
   "outputs": [],
   "source": []
  }
 ],
 "metadata": {
  "kernelspec": {
   "display_name": "Python 3 (ipykernel)",
   "language": "python",
   "name": "python3"
  },
  "language_info": {
   "codemirror_mode": {
    "name": "ipython",
    "version": 3
   },
   "file_extension": ".py",
   "mimetype": "text/x-python",
   "name": "python",
   "nbconvert_exporter": "python",
   "pygments_lexer": "ipython3",
   "version": "3.10.9"
  }
 },
 "nbformat": 4,
 "nbformat_minor": 4
}
